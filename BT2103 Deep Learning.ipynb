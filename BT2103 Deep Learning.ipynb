{
 "cells": [
  {
   "cell_type": "markdown",
   "metadata": {},
   "source": [
    "# Deep Learning/ Artificial Neural Networks"
   ]
  },
  {
   "cell_type": "code",
   "execution_count": 1,
   "metadata": {},
   "outputs": [
    {
     "name": "stderr",
     "output_type": "stream",
     "text": [
      "C:\\Users\\turtl\\anaconda3\\envs\\tf\\lib\\site-packages\\scipy\\__init__.py:146: UserWarning: A NumPy version >=1.16.5 and <1.23.0 is required for this version of SciPy (detected version 1.23.4\n",
      "  warnings.warn(f\"A NumPy version >={np_minversion} and <{np_maxversion}\"\n"
     ]
    }
   ],
   "source": [
    "\n",
    "import numpy as np\n",
    "import pandas as pd\n",
    "import tensorflow as tf\n"
   ]
  },
  {
   "cell_type": "code",
   "execution_count": 2,
   "metadata": {
    "scrolled": true
   },
   "outputs": [
    {
     "name": "stdout",
     "output_type": "stream",
     "text": [
      "[[ 20000      2      2 ...      0      0      0]\n",
      " [120000      2      2 ...   1000      0   2000]\n",
      " [ 90000      2      2 ...   1000   1000   5000]\n",
      " ...\n",
      " [ 30000      1      2 ...   4200   2000   3100]\n",
      " [ 80000      1      3 ...   1926  52964   1804]\n",
      " [ 50000      1      2 ...   1000   1000   1000]]\n",
      "[1 1 0 ... 1 1 1]\n"
     ]
    }
   ],
   "source": [
    "dataset = pd.read_csv('card.csv',skiprows=[1],index_col=[0])\n",
    "X = dataset.iloc[:, :-1].values\n",
    "y = dataset.iloc[:, -1].values\n"
   ]
  },
  {
   "cell_type": "code",
   "execution_count": 5,
   "metadata": {},
   "outputs": [
    {
     "name": "stdout",
     "output_type": "stream",
     "text": [
      "[[0.0000e+00 1.0000e+00 2.0000e+00 ... 0.0000e+00 0.0000e+00 0.0000e+00]\n",
      " [0.0000e+00 1.0000e+00 1.2000e+01 ... 1.0000e+03 0.0000e+00 2.0000e+03]\n",
      " [0.0000e+00 1.0000e+00 9.0000e+00 ... 1.0000e+03 1.0000e+03 5.0000e+03]\n",
      " ...\n",
      " [1.0000e+00 0.0000e+00 3.0000e+00 ... 4.2000e+03 2.0000e+03 3.1000e+03]\n",
      " [1.0000e+00 0.0000e+00 8.0000e+00 ... 1.9260e+03 5.2964e+04 1.8040e+03]\n",
      " [1.0000e+00 0.0000e+00 5.0000e+00 ... 1.0000e+03 1.0000e+03 1.0000e+03]]\n",
      "[[0.0000e+00 1.0000e+00 0.0000e+00 ... 0.0000e+00 0.0000e+00 0.0000e+00]\n",
      " [0.0000e+00 1.0000e+00 0.0000e+00 ... 1.0000e+03 0.0000e+00 2.0000e+03]\n",
      " [0.0000e+00 1.0000e+00 0.0000e+00 ... 1.0000e+03 1.0000e+03 5.0000e+03]\n",
      " ...\n",
      " [1.0000e+00 0.0000e+00 1.0000e+00 ... 4.2000e+03 2.0000e+03 3.1000e+03]\n",
      " [1.0000e+00 0.0000e+00 1.0000e+00 ... 1.9260e+03 5.2964e+04 1.8040e+03]\n",
      " [1.0000e+00 0.0000e+00 1.0000e+00 ... 1.0000e+03 1.0000e+03 1.0000e+03]]\n"
     ]
    }
   ],
   "source": [
    "from sklearn.preprocessing import LabelEncoder\n",
    "le = LabelEncoder()\n",
    "X[:, 2] = le.fit_transform(X[:, 2])\n",
    "print(X)\n",
    "# One Hot Encoding the \"Geography\" column\n",
    "from sklearn.compose import ColumnTransformer\n",
    "from sklearn.preprocessing import OneHotEncoder\n",
    "ct = ColumnTransformer(transformers=[('encoder', OneHotEncoder(), [1])], remainder='passthrough')\n",
    "X = np.array(ct.fit_transform(X))\n",
    "print(X)"
   ]
  },
  {
   "cell_type": "code",
   "execution_count": 6,
   "metadata": {},
   "outputs": [],
   "source": [
    "from sklearn.model_selection import train_test_split\n",
    "X_train, X_test, y_train, y_test = train_test_split(X, y, test_size = 0.25, random_state = 1234)"
   ]
  },
  {
   "cell_type": "code",
   "execution_count": 7,
   "metadata": {},
   "outputs": [],
   "source": [
    "from sklearn.preprocessing import StandardScaler\n",
    "sc = StandardScaler()\n",
    "X_train = sc.fit_transform(X_train)\n",
    "X_test = sc.transform(X_test)"
   ]
  },
  {
   "cell_type": "markdown",
   "metadata": {},
   "source": [
    "## 3 layers of ANN"
   ]
  },
  {
   "cell_type": "code",
   "execution_count": 8,
   "metadata": {},
   "outputs": [],
   "source": [
    "ann = tf.keras.models.Sequential()"
   ]
  },
  {
   "cell_type": "code",
   "execution_count": 9,
   "metadata": {},
   "outputs": [],
   "source": [
    "ann.add(tf.keras.layers.Dense(units=6, activation='relu'))"
   ]
  },
  {
   "cell_type": "code",
   "execution_count": 10,
   "metadata": {},
   "outputs": [],
   "source": [
    "ann.add(tf.keras.layers.Dense(units=6, activation='relu'))"
   ]
  },
  {
   "cell_type": "code",
   "execution_count": 11,
   "metadata": {},
   "outputs": [],
   "source": [
    "ann.add(tf.keras.layers.Dense(units=1, activation='sigmoid'))\n"
   ]
  },
  {
   "cell_type": "code",
   "execution_count": 12,
   "metadata": {},
   "outputs": [],
   "source": [
    "ann.compile(optimizer = 'adam', loss = 'binary_crossentropy', metrics = ['accuracy'])"
   ]
  },
  {
   "cell_type": "code",
   "execution_count": 13,
   "metadata": {},
   "outputs": [
    {
     "name": "stdout",
     "output_type": "stream",
     "text": [
      "Epoch 1/100\n",
      "704/704 [==============================] - 4s 3ms/step - loss: 0.5416 - accuracy: 0.7424\n",
      "Epoch 2/100\n",
      "704/704 [==============================] - 2s 3ms/step - loss: 0.4541 - accuracy: 0.8148\n",
      "Epoch 3/100\n",
      "704/704 [==============================] - 2s 3ms/step - loss: 0.4467 - accuracy: 0.8184\n",
      "Epoch 4/100\n",
      "704/704 [==============================] - 2s 3ms/step - loss: 0.4433 - accuracy: 0.8184\n",
      "Epoch 5/100\n",
      "704/704 [==============================] - 2s 3ms/step - loss: 0.4411 - accuracy: 0.8204\n",
      "Epoch 6/100\n",
      "704/704 [==============================] - 2s 3ms/step - loss: 0.4393 - accuracy: 0.8200\n",
      "Epoch 7/100\n",
      "704/704 [==============================] - 2s 3ms/step - loss: 0.4383 - accuracy: 0.8209\n",
      "Epoch 8/100\n",
      "704/704 [==============================] - 2s 3ms/step - loss: 0.4375 - accuracy: 0.8204\n",
      "Epoch 9/100\n",
      "704/704 [==============================] - 2s 3ms/step - loss: 0.4369 - accuracy: 0.8207\n",
      "Epoch 10/100\n",
      "704/704 [==============================] - 2s 3ms/step - loss: 0.4362 - accuracy: 0.8195\n",
      "Epoch 11/100\n",
      "704/704 [==============================] - 2s 3ms/step - loss: 0.4356 - accuracy: 0.8201\n",
      "Epoch 12/100\n",
      "704/704 [==============================] - 2s 3ms/step - loss: 0.4347 - accuracy: 0.8207\n",
      "Epoch 13/100\n",
      "704/704 [==============================] - 2s 3ms/step - loss: 0.4349 - accuracy: 0.8206\n",
      "Epoch 14/100\n",
      "704/704 [==============================] - 2s 3ms/step - loss: 0.4344 - accuracy: 0.8196\n",
      "Epoch 15/100\n",
      "704/704 [==============================] - 2s 3ms/step - loss: 0.4339 - accuracy: 0.8204\n",
      "Epoch 16/100\n",
      "704/704 [==============================] - 2s 3ms/step - loss: 0.4336 - accuracy: 0.8200\n",
      "Epoch 17/100\n",
      "704/704 [==============================] - 2s 3ms/step - loss: 0.4337 - accuracy: 0.8199\n",
      "Epoch 18/100\n",
      "704/704 [==============================] - 2s 3ms/step - loss: 0.4329 - accuracy: 0.8208\n",
      "Epoch 19/100\n",
      "704/704 [==============================] - 2s 3ms/step - loss: 0.4325 - accuracy: 0.8206\n",
      "Epoch 20/100\n",
      "704/704 [==============================] - 2s 3ms/step - loss: 0.4326 - accuracy: 0.8208\n",
      "Epoch 21/100\n",
      "704/704 [==============================] - 2s 3ms/step - loss: 0.4324 - accuracy: 0.8200\n",
      "Epoch 22/100\n",
      "704/704 [==============================] - 2s 3ms/step - loss: 0.4322 - accuracy: 0.8204\n",
      "Epoch 23/100\n",
      "704/704 [==============================] - 2s 3ms/step - loss: 0.4322 - accuracy: 0.8204\n",
      "Epoch 24/100\n",
      "704/704 [==============================] - 2s 3ms/step - loss: 0.4318 - accuracy: 0.8207\n",
      "Epoch 25/100\n",
      "704/704 [==============================] - 2s 3ms/step - loss: 0.4320 - accuracy: 0.8201\n",
      "Epoch 26/100\n",
      "704/704 [==============================] - 2s 3ms/step - loss: 0.4319 - accuracy: 0.8209\n",
      "Epoch 27/100\n",
      "704/704 [==============================] - 2s 3ms/step - loss: 0.4317 - accuracy: 0.8214\n",
      "Epoch 28/100\n",
      "704/704 [==============================] - 2s 3ms/step - loss: 0.4312 - accuracy: 0.8216\n",
      "Epoch 29/100\n",
      "704/704 [==============================] - 2s 3ms/step - loss: 0.4313 - accuracy: 0.8212\n",
      "Epoch 30/100\n",
      "704/704 [==============================] - 2s 3ms/step - loss: 0.4312 - accuracy: 0.8208\n",
      "Epoch 31/100\n",
      "704/704 [==============================] - 2s 3ms/step - loss: 0.4312 - accuracy: 0.8213\n",
      "Epoch 32/100\n",
      "704/704 [==============================] - 2s 3ms/step - loss: 0.4312 - accuracy: 0.8213\n",
      "Epoch 33/100\n",
      "704/704 [==============================] - 2s 3ms/step - loss: 0.4309 - accuracy: 0.8213\n",
      "Epoch 34/100\n",
      "704/704 [==============================] - 2s 3ms/step - loss: 0.4308 - accuracy: 0.8213\n",
      "Epoch 35/100\n",
      "704/704 [==============================] - 2s 3ms/step - loss: 0.4309 - accuracy: 0.8214\n",
      "Epoch 36/100\n",
      "704/704 [==============================] - 2s 3ms/step - loss: 0.4306 - accuracy: 0.8207\n",
      "Epoch 37/100\n",
      "704/704 [==============================] - 2s 3ms/step - loss: 0.4309 - accuracy: 0.8204\n",
      "Epoch 38/100\n",
      "704/704 [==============================] - 2s 3ms/step - loss: 0.4309 - accuracy: 0.8209\n",
      "Epoch 39/100\n",
      "704/704 [==============================] - 2s 3ms/step - loss: 0.4305 - accuracy: 0.8218\n",
      "Epoch 40/100\n",
      "704/704 [==============================] - 2s 3ms/step - loss: 0.4304 - accuracy: 0.8213\n",
      "Epoch 41/100\n",
      "704/704 [==============================] - 2s 3ms/step - loss: 0.4306 - accuracy: 0.8208\n",
      "Epoch 42/100\n",
      "704/704 [==============================] - 2s 3ms/step - loss: 0.4304 - accuracy: 0.8206\n",
      "Epoch 43/100\n",
      "704/704 [==============================] - 2s 3ms/step - loss: 0.4302 - accuracy: 0.8216\n",
      "Epoch 44/100\n",
      "704/704 [==============================] - 2s 3ms/step - loss: 0.4303 - accuracy: 0.8213\n",
      "Epoch 45/100\n",
      "704/704 [==============================] - 2s 3ms/step - loss: 0.4301 - accuracy: 0.8210\n",
      "Epoch 46/100\n",
      "704/704 [==============================] - 2s 3ms/step - loss: 0.4297 - accuracy: 0.8213\n",
      "Epoch 47/100\n",
      "704/704 [==============================] - 2s 3ms/step - loss: 0.4302 - accuracy: 0.8207\n",
      "Epoch 48/100\n",
      "704/704 [==============================] - 2s 3ms/step - loss: 0.4296 - accuracy: 0.8210\n",
      "Epoch 49/100\n",
      "704/704 [==============================] - 2s 3ms/step - loss: 0.4303 - accuracy: 0.8216\n",
      "Epoch 50/100\n",
      "704/704 [==============================] - 2s 3ms/step - loss: 0.4295 - accuracy: 0.8216\n",
      "Epoch 51/100\n",
      "704/704 [==============================] - 2s 3ms/step - loss: 0.4298 - accuracy: 0.8214\n",
      "Epoch 52/100\n",
      "704/704 [==============================] - 2s 3ms/step - loss: 0.4298 - accuracy: 0.8213\n",
      "Epoch 53/100\n",
      "704/704 [==============================] - 2s 3ms/step - loss: 0.4295 - accuracy: 0.8212\n",
      "Epoch 54/100\n",
      "704/704 [==============================] - 2s 3ms/step - loss: 0.4295 - accuracy: 0.8217\n",
      "Epoch 55/100\n",
      "704/704 [==============================] - 2s 3ms/step - loss: 0.4295 - accuracy: 0.8214\n",
      "Epoch 56/100\n",
      "704/704 [==============================] - 2s 3ms/step - loss: 0.4292 - accuracy: 0.8216\n",
      "Epoch 57/100\n",
      "704/704 [==============================] - 2s 3ms/step - loss: 0.4295 - accuracy: 0.8212\n",
      "Epoch 58/100\n",
      "704/704 [==============================] - 2s 3ms/step - loss: 0.4295 - accuracy: 0.8207\n",
      "Epoch 59/100\n",
      "704/704 [==============================] - 2s 3ms/step - loss: 0.4292 - accuracy: 0.8215\n",
      "Epoch 60/100\n",
      "704/704 [==============================] - 2s 3ms/step - loss: 0.4292 - accuracy: 0.8222\n",
      "Epoch 61/100\n",
      "704/704 [==============================] - 2s 3ms/step - loss: 0.4289 - accuracy: 0.8216\n",
      "Epoch 62/100\n",
      "704/704 [==============================] - 2s 3ms/step - loss: 0.4289 - accuracy: 0.8228\n",
      "Epoch 63/100\n",
      "704/704 [==============================] - 2s 3ms/step - loss: 0.4289 - accuracy: 0.8221\n",
      "Epoch 64/100\n",
      "704/704 [==============================] - 2s 3ms/step - loss: 0.4289 - accuracy: 0.8215\n",
      "Epoch 65/100\n",
      "704/704 [==============================] - 2s 3ms/step - loss: 0.4286 - accuracy: 0.8221\n",
      "Epoch 66/100\n",
      "704/704 [==============================] - 2s 3ms/step - loss: 0.4288 - accuracy: 0.8213\n",
      "Epoch 67/100\n",
      "704/704 [==============================] - 2s 3ms/step - loss: 0.4288 - accuracy: 0.8218\n",
      "Epoch 68/100\n",
      "704/704 [==============================] - 2s 3ms/step - loss: 0.4287 - accuracy: 0.8221\n",
      "Epoch 69/100\n",
      "704/704 [==============================] - 2s 3ms/step - loss: 0.4283 - accuracy: 0.8224\n",
      "Epoch 70/100\n",
      "704/704 [==============================] - 2s 3ms/step - loss: 0.4286 - accuracy: 0.8216\n",
      "Epoch 71/100\n",
      "704/704 [==============================] - 2s 3ms/step - loss: 0.4291 - accuracy: 0.8217\n",
      "Epoch 72/100\n",
      "704/704 [==============================] - 2s 3ms/step - loss: 0.4284 - accuracy: 0.8216\n",
      "Epoch 73/100\n",
      "704/704 [==============================] - 2s 3ms/step - loss: 0.4285 - accuracy: 0.8218\n",
      "Epoch 74/100\n",
      "704/704 [==============================] - 2s 3ms/step - loss: 0.4284 - accuracy: 0.8211\n",
      "Epoch 75/100\n",
      "704/704 [==============================] - 2s 3ms/step - loss: 0.4285 - accuracy: 0.8217\n",
      "Epoch 76/100\n",
      "704/704 [==============================] - 2s 3ms/step - loss: 0.4281 - accuracy: 0.8218\n",
      "Epoch 77/100\n",
      "704/704 [==============================] - 2s 3ms/step - loss: 0.4284 - accuracy: 0.8217\n",
      "Epoch 78/100\n",
      "704/704 [==============================] - 2s 3ms/step - loss: 0.4283 - accuracy: 0.8219\n",
      "Epoch 79/100\n",
      "704/704 [==============================] - 2s 3ms/step - loss: 0.4283 - accuracy: 0.8217\n",
      "Epoch 80/100\n",
      "704/704 [==============================] - 2s 3ms/step - loss: 0.4283 - accuracy: 0.8219\n",
      "Epoch 81/100\n",
      "704/704 [==============================] - 2s 3ms/step - loss: 0.4282 - accuracy: 0.8218\n",
      "Epoch 82/100\n",
      "704/704 [==============================] - 2s 3ms/step - loss: 0.4278 - accuracy: 0.8231\n",
      "Epoch 83/100\n",
      "704/704 [==============================] - 2s 3ms/step - loss: 0.4285 - accuracy: 0.8217\n",
      "Epoch 84/100\n",
      "704/704 [==============================] - 2s 3ms/step - loss: 0.4280 - accuracy: 0.8216\n",
      "Epoch 85/100\n",
      "704/704 [==============================] - 2s 3ms/step - loss: 0.4280 - accuracy: 0.8226\n",
      "Epoch 86/100\n",
      "704/704 [==============================] - 2s 3ms/step - loss: 0.4278 - accuracy: 0.8227\n",
      "Epoch 87/100\n",
      "704/704 [==============================] - 2s 3ms/step - loss: 0.4279 - accuracy: 0.8217\n",
      "Epoch 88/100\n",
      "704/704 [==============================] - 2s 3ms/step - loss: 0.4281 - accuracy: 0.8221\n",
      "Epoch 89/100\n",
      "704/704 [==============================] - 2s 3ms/step - loss: 0.4276 - accuracy: 0.8220\n",
      "Epoch 90/100\n",
      "704/704 [==============================] - 2s 3ms/step - loss: 0.4283 - accuracy: 0.8214\n",
      "Epoch 91/100\n",
      "704/704 [==============================] - 2s 3ms/step - loss: 0.4277 - accuracy: 0.8222\n",
      "Epoch 92/100\n",
      "704/704 [==============================] - 2s 3ms/step - loss: 0.4275 - accuracy: 0.8223\n",
      "Epoch 93/100\n",
      "704/704 [==============================] - 2s 3ms/step - loss: 0.4278 - accuracy: 0.8220\n",
      "Epoch 94/100\n",
      "704/704 [==============================] - 2s 3ms/step - loss: 0.4277 - accuracy: 0.8218\n",
      "Epoch 95/100\n",
      "704/704 [==============================] - 2s 3ms/step - loss: 0.4275 - accuracy: 0.8225\n",
      "Epoch 96/100\n",
      "704/704 [==============================] - 2s 3ms/step - loss: 0.4276 - accuracy: 0.8227\n",
      "Epoch 97/100\n",
      "704/704 [==============================] - 2s 3ms/step - loss: 0.4278 - accuracy: 0.8216\n",
      "Epoch 98/100\n",
      "704/704 [==============================] - 2s 3ms/step - loss: 0.4276 - accuracy: 0.8218\n",
      "Epoch 99/100\n",
      "704/704 [==============================] - 2s 3ms/step - loss: 0.4274 - accuracy: 0.8224\n",
      "Epoch 100/100\n",
      "704/704 [==============================] - 2s 3ms/step - loss: 0.4276 - accuracy: 0.8224\n"
     ]
    },
    {
     "data": {
      "text/plain": [
       "<keras.callbacks.History at 0x17350467d90>"
      ]
     },
     "execution_count": 13,
     "metadata": {},
     "output_type": "execute_result"
    }
   ],
   "source": [
    "ann.fit(X_train, y_train, batch_size = 32, epochs = 100)"
   ]
  },
  {
   "cell_type": "code",
   "execution_count": 14,
   "metadata": {},
   "outputs": [
    {
     "name": "stdout",
     "output_type": "stream",
     "text": [
      "235/235 [==============================] - 1s 2ms/step\n",
      "[[0 0]\n",
      " [0 0]\n",
      " [0 0]\n",
      " ...\n",
      " [0 0]\n",
      " [0 0]\n",
      " [0 0]]\n"
     ]
    }
   ],
   "source": [
    "y_pred = ann.predict(X_test)\n",
    "y_pred = (y_pred > 0.5)\n",
    "print(np.concatenate((y_pred.reshape(len(y_pred),1), y_test.reshape(len(y_test),1)),1))"
   ]
  },
  {
   "cell_type": "code",
   "execution_count": 15,
   "metadata": {},
   "outputs": [
    {
     "name": "stdout",
     "output_type": "stream",
     "text": [
      "[[5511  289]\n",
      " [1087  613]]\n"
     ]
    },
    {
     "data": {
      "text/plain": [
       "0.8165333333333333"
      ]
     },
     "execution_count": 15,
     "metadata": {},
     "output_type": "execute_result"
    }
   ],
   "source": [
    "from sklearn.metrics import confusion_matrix, accuracy_score\n",
    "cm = confusion_matrix(y_test, y_pred)\n",
    "print(cm)\n",
    "accuracy_score(y_test, y_pred)"
   ]
  },
  {
   "cell_type": "markdown",
   "metadata": {},
   "source": [
    "81.653% accuracy"
   ]
  }
 ],
 "metadata": {
  "kernelspec": {
   "display_name": "Python 3",
   "language": "python",
   "name": "python3"
  },
  "language_info": {
   "codemirror_mode": {
    "name": "ipython",
    "version": 3
   },
   "file_extension": ".py",
   "mimetype": "text/x-python",
   "name": "python",
   "nbconvert_exporter": "python",
   "pygments_lexer": "ipython3",
   "version": "3.8.5"
  }
 },
 "nbformat": 4,
 "nbformat_minor": 5
}
